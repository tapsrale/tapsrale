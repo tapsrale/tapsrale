{
  "nbformat": 4,
  "nbformat_minor": 0,
  "metadata": {
    "colab": {
      "provenance": [],
      "authorship_tag": "ABX9TyNJYBXz61G1LC+0EezTKAeO",
      "include_colab_link": true
    },
    "kernelspec": {
      "name": "python3",
      "display_name": "Python 3"
    },
    "language_info": {
      "name": "python"
    }
  },
  "cells": [
    {
      "cell_type": "markdown",
      "metadata": {
        "id": "view-in-github",
        "colab_type": "text"
      },
      "source": [
        "<a href=\"https://colab.research.google.com/github/tapsrale/tapsrale/blob/main/byte1.ipynb\" target=\"_parent\"><img src=\"https://colab.research.google.com/assets/colab-badge.svg\" alt=\"Open In Colab\"/></a>"
      ]
    },
    {
      "cell_type": "markdown",
      "source": [
        "# **INTRODUCTION TO PYTHON**"
      ],
      "metadata": {
        "id": "wYrHX0o1LD9_"
      }
    },
    {
      "cell_type": "markdown",
      "source": [
        "1. How to print text\n",
        "2. How to get user inputs\n",
        "3. How to create variables\n",
        "4. How to concatenate text and variables. "
      ],
      "metadata": {
        "id": "d00jOwuuK-Jg"
      }
    },
    {
      "cell_type": "markdown",
      "source": [
        "Print \"Hello World!\""
      ],
      "metadata": {
        "id": "u3QhN1ORH3Xm"
      }
    },
    {
      "cell_type": "code",
      "execution_count": 4,
      "metadata": {
        "colab": {
          "base_uri": "https://localhost:8080/"
        },
        "id": "seKbp0SQBWeh",
        "outputId": "5be06861-6595-48a0-d6ad-1186b8b6645d"
      },
      "outputs": [
        {
          "output_type": "stream",
          "name": "stdout",
          "text": [
            "Hello World\n"
          ]
        }
      ],
      "source": [
        "print(\"Hello World\")"
      ]
    },
    {
      "cell_type": "markdown",
      "source": [
        "Print multiple text"
      ],
      "metadata": {
        "id": "smn-isnMImFY"
      }
    },
    {
      "cell_type": "code",
      "source": [
        "print('My name is Rale')\n",
        "print ('I live in Gabs, Botswana')"
      ],
      "metadata": {
        "colab": {
          "base_uri": "https://localhost:8080/"
        },
        "id": "ydzztgoMI0TK",
        "outputId": "4f15b406-6c15-4f71-9605-bfd2a6d07ec1"
      },
      "execution_count": 7,
      "outputs": [
        {
          "output_type": "stream",
          "name": "stdout",
          "text": [
            "my name is Rale\n",
            "I live in Gabs, Botswana\n"
          ]
        }
      ]
    },
    {
      "cell_type": "code",
      "source": [
        "print('My name is Rale \\nand I live in Gabs, Botswana')"
      ],
      "metadata": {
        "colab": {
          "base_uri": "https://localhost:8080/"
        },
        "id": "PhVls6TuMdLB",
        "outputId": "6bd075ee-a1a7-46ea-d283-5fe6f7a19c4e"
      },
      "execution_count": 9,
      "outputs": [
        {
          "output_type": "stream",
          "name": "stdout",
          "text": [
            "My name is Rale \n",
            "and I live in Gabs, Botswana\n"
          ]
        }
      ]
    },
    {
      "cell_type": "markdown",
      "source": [
        "Ask the user for their name"
      ],
      "metadata": {
        "id": "e4KVu7mcJFIY"
      }
    },
    {
      "cell_type": "code",
      "source": [
        "input('what is your name? ')"
      ],
      "metadata": {
        "colab": {
          "base_uri": "https://localhost:8080/",
          "height": 53
        },
        "id": "ER5_A2fMJSKf",
        "outputId": "9a09df64-9a04-4b42-de91-20f16b3c1cf1"
      },
      "execution_count": 11,
      "outputs": [
        {
          "name": "stdout",
          "output_type": "stream",
          "text": [
            "what is your name? Rale\n"
          ]
        },
        {
          "output_type": "execute_result",
          "data": {
            "text/plain": [
              "'Rale'"
            ],
            "application/vnd.google.colaboratory.intrinsic+json": {
              "type": "string"
            }
          },
          "metadata": {},
          "execution_count": 11
        }
      ]
    },
    {
      "cell_type": "markdown",
      "source": [
        "Store user input in a variable called \"Username\""
      ],
      "metadata": {
        "id": "9E8GnqydJUDu"
      }
    },
    {
      "cell_type": "code",
      "source": [
        "Username = input('what is your name?')"
      ],
      "metadata": {
        "colab": {
          "base_uri": "https://localhost:8080/"
        },
        "id": "GsYYquDQJccq",
        "outputId": "ecaef612-2490-41eb-bfd0-4eedc0c7a8fb"
      },
      "execution_count": 12,
      "outputs": [
        {
          "name": "stdout",
          "output_type": "stream",
          "text": [
            "what is your name?taps Rale\n"
          ]
        }
      ]
    },
    {
      "cell_type": "markdown",
      "source": [
        "Print the username variable"
      ],
      "metadata": {
        "id": "2qs-VufwJfbz"
      }
    },
    {
      "cell_type": "code",
      "source": [
        "Username"
      ],
      "metadata": {
        "colab": {
          "base_uri": "https://localhost:8080/",
          "height": 35
        },
        "id": "PdNKJ2KXO28X",
        "outputId": "7f31a2e8-84bf-4704-c073-43f957aaa743"
      },
      "execution_count": 14,
      "outputs": [
        {
          "output_type": "execute_result",
          "data": {
            "text/plain": [
              "'taps Rale'"
            ],
            "application/vnd.google.colaboratory.intrinsic+json": {
              "type": "string"
            }
          },
          "metadata": {},
          "execution_count": 14
        }
      ]
    },
    {
      "cell_type": "markdown",
      "source": [
        "Concatenate text and variables to print: Hello (Username), nice to meet you :)"
      ],
      "metadata": {
        "id": "tx4jlR0AJngm"
      }
    },
    {
      "cell_type": "code",
      "source": [
        "print('hello '  +Username + ', nice to me you : )')"
      ],
      "metadata": {
        "colab": {
          "base_uri": "https://localhost:8080/"
        },
        "id": "l8ibLUMJJvc8",
        "outputId": "baa1e74a-0885-4a15-f667-7b232d642989"
      },
      "execution_count": 16,
      "outputs": [
        {
          "output_type": "stream",
          "name": "stdout",
          "text": [
            "hello taps Rale, nice to me you : )\n"
          ]
        }
      ]
    }
  ]
}